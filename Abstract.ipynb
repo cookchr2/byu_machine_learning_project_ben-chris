{
 "cells": [
  {
   "cell_type": "markdown",
   "metadata": {},
   "source": [
    "### Team Name: The Christened Ones\n",
    "### Team Members: Christopher Cook and Ben Christensen\n",
    "\n",
    "## Abstract"
   ]
  },
  {
   "cell_type": "markdown",
   "metadata": {},
   "source": [
    "Problem: Researchers interested in studying individuals across censuses currently have no universal database to keep track of an individual from one census to another. \n",
    "\n",
    "Approach: We would like to use machine learning to link censuses together by using family tree research as confirmation of our identification strategies. Based on variables in the census such as name, age, and birth place, we can find close matches from one census to another. For example, Maggie O. Abbett in 1910 is similar to Maggie Abbit in 1900 but also to Margaret J Abrams. It is not uncommon for spelling to change across a census. Thus the difficulty of linking censuses. However, in family search, millions of users peruse the censuses and other records and attach those sources to individual profiles with the most accurate name they can find. Because Maggie O. Abbett has a source attached in family search for 1910 and 1900, we know that she was recorded as Maggie Abbit in the 1900 census. Therefore we can confirm that Maggie Abbit was the match and Margaret J Abrams was not a match.\n",
    "\n",
    "Data Cleaning: This part is thankfully already done! (Or close to it). We got a list from family search of everone attached to both the 1900 and 1910 censuses, and created a dataset that contained all their census information in both censuses. We then tried to find close, but false matches between the censuses. This was a bit tricky, but we kept everyone who had the same first letter in their first and last names, and were born within the same 5 year period to somebody who is already in our 'true' dataset. This gave us a sizeable, but also manegable set of false matches. Then we added a set of completely random matches, to help it recognize that a terrible match is NOT a good one. Finally we created a set of preliminary features that rate the comparison between the records. We are only working with data from the Virginia censuses.\n",
    "\n",
    "\n",
    "Models: Linear Regression, decision tree, SVC, Random Forest, Deep Learning Neural Net\n",
    "\n",
    "\n",
    "We have found no existing machine learning approaches to linking censuses."
   ]
  }
 ],
 "metadata": {
  "kernelspec": {
   "display_name": "Python 3",
   "language": "python",
   "name": "python3"
  },
  "language_info": {
   "codemirror_mode": {
    "name": "ipython",
    "version": 3
   },
   "file_extension": ".py",
   "mimetype": "text/x-python",
   "name": "python",
   "nbconvert_exporter": "python",
   "pygments_lexer": "ipython3",
   "version": "3.6.1"
  }
 },
 "nbformat": 4,
 "nbformat_minor": 2
}
