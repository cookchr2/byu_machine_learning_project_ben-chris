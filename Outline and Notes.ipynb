{
 "cells": [
  {
   "cell_type": "markdown",
   "metadata": {},
   "source": [
    "Bullet Points:\n",
    "Intro-Problem, --other linking methods somebodyelse(2016) 76,000 https://open.bu.edu/handle/2144/27526 what they did our training set orders of magnitude larger (3.5 million true, 27 million false)\n",
    "approach- what methods we used\n",
    "features: (feature importances)\n",
    "Results, hyperparameter choice on small dataset, trained real data once, took 8.5 DAYS (best depth=15, features=0.8)\n",
    "Predictions 12 million matches 90% Accurate(hand checked), what fiegenbaum were able to predict\n"
   ]
  },
  {
   "cell_type": "markdown",
   "metadata": {},
   "source": [
    "## Intro--Problem\n"
   ]
  },
  {
   "cell_type": "markdown",
   "metadata": {},
   "source": [
    "Picture of census, go into backround of censuses\n",
    "Could talk about how cool linking censuses is. (Migration, Occupation transitions, Marriage & Fertility over time, etc)"
   ]
  },
  {
   "cell_type": "markdown",
   "metadata": {},
   "source": [
    "## Other peeps"
   ]
  },
  {
   "cell_type": "markdown",
   "metadata": {},
   "source": [
    "(ben)\n",
    "(Not picture of him), describe methods, results steal graph etc"
   ]
  },
  {
   "cell_type": "markdown",
   "metadata": {},
   "source": [
    "## Approach"
   ]
  },
  {
   "cell_type": "markdown",
   "metadata": {},
   "source": [
    "(chris)"
   ]
  },
  {
   "cell_type": "markdown",
   "metadata": {},
   "source": [
    "## Features"
   ]
  },
  {
   "cell_type": "markdown",
   "metadata": {},
   "source": [
    "(Chris)"
   ]
  },
  {
   "cell_type": "markdown",
   "metadata": {},
   "source": [
    "## Results"
   ]
  },
  {
   "cell_type": "markdown",
   "metadata": {},
   "source": [
    "(Chris)"
   ]
  },
  {
   "cell_type": "markdown",
   "metadata": {},
   "source": [
    "## Predictions\n"
   ]
  },
  {
   "cell_type": "markdown",
   "metadata": {},
   "source": [
    "Chris:\n",
    "Talk about how we got predictions. (Binned in the same way as our false matches, and the checked each potential match in the bin)\n",
    "12 Million Matches\n",
    "Ben:\n",
    "(Going to click on links)\n",
    "90% accurate (why not 99%, lot more false than true)\n"
   ]
  },
  {
   "cell_type": "code",
   "execution_count": null,
   "metadata": {
    "collapsed": true
   },
   "outputs": [],
   "source": []
  }
 ],
 "metadata": {
  "kernelspec": {
   "display_name": "Python 3",
   "language": "python",
   "name": "python3"
  },
  "language_info": {
   "codemirror_mode": {
    "name": "ipython",
    "version": 3
   },
   "file_extension": ".py",
   "mimetype": "text/x-python",
   "name": "python",
   "nbconvert_exporter": "python",
   "pygments_lexer": "ipython3",
   "version": "3.6.1"
  }
 },
 "nbformat": 4,
 "nbformat_minor": 2
}
