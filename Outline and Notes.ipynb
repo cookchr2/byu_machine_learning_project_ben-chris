{
 "cells": [
  {
   "cell_type": "markdown",
   "metadata": {},
   "source": [
    "Bullet Points:\n",
    "Intro-Problem, --other linking methods somebodyelse(2016) 76,000 https://open.bu.edu/handle/2144/27526 what they did our training set orders of magnitude larger (3.5 million true, 27 million false)\n",
    "approach- what methods we used\n",
    "features: (feature importances)\n",
    "Results, hyperparameter choice on small dataset, trained real data once, took 8.5 DAYS (best depth=15, features=0.8)\n",
    "Predictions 12 million matches 90% Accurate(hand checked), what fiegenbaum were able to predict\n"
   ]
  },
  {
   "cell_type": "markdown",
   "metadata": {},
   "source": [
    "## Intro--Problem\n"
   ]
  },
  {
   "cell_type": "markdown",
   "metadata": {},
   "source": [
    "Picture of census, go into backround of censuses\n",
    "\n",
    "\n",
    "\n",
    "\"This census is for the state of New York in New York County\"\n",
    "Name, relation, tenure, sex, race, age, marital status, citizenship, education, mother's birthplace and native language, father's birthplace and native language, occupation.\n",
    "\n",
    "Potential for Linking censuses:\n",
    "Migration, Occupation transitions, Marriage & Fertility over time, etc"
   ]
  },
  {
   "cell_type": "markdown",
   "metadata": {},
   "source": [
    "## Other peeps"
   ]
  },
  {
   "cell_type": "markdown",
   "metadata": {},
   "source": [
    "(ben)\n",
    "His sample size: 7580 boys from 1915 census to 1940 census\n",
    "Our sample size: ??? from 1910 census to 1920 census\n",
    "\n"
   ]
  },
  {
   "cell_type": "markdown",
   "metadata": {},
   "source": [
    "## Approach"
   ]
  },
  {
   "cell_type": "markdown",
   "metadata": {},
   "source": [
    "(chris) Hey, Chris! You may want to look over Feigenbaum's article so you can compare our choice of models with his. He used logit, OLS, Random Forest, SVM, and soundex among others (see page 27). What's different about ours? A lot of it is sample size. Are there other things?\n",
    "\n",
    "https://open.bu.edu/bitstream/handle/2144/27526/census-link-ml.pdf?sequence=1&isAllowed=y"
   ]
  },
  {
   "cell_type": "markdown",
   "metadata": {},
   "source": [
    "## Features"
   ]
  },
  {
   "cell_type": "markdown",
   "metadata": {},
   "source": [
    "(Chris)\n",
    "Hey, Chris! I loaded the images into the notebook. You may want to play with the figure size to get it where you want it. When I full screen the notebook it looks really big."
   ]
  },
  {
   "cell_type": "markdown",
   "metadata": {},
   "source": [
    "## Results"
   ]
  },
  {
   "cell_type": "markdown",
   "metadata": {},
   "source": [
    "(Chris)\n",
    "Hey, Chris! I plugged in Feigenbaum's confusion matrix in this section. Maybe we'll use it, maybe we won't, but I thought it would be good to have. I wasn't sure how to directly compare it to our results so I put it there so that you could figure that out."
   ]
  },
  {
   "cell_type": "markdown",
   "metadata": {},
   "source": [
    "## Predictions\n"
   ]
  },
  {
   "cell_type": "markdown",
   "metadata": {},
   "source": [
    "Chris:\n",
    "Talk about how we got predictions. (Binned in the same way as our false matches, and the checked each potential match in the bin)\n",
    "12 Million Matches\n",
    "\n",
    "**His match rate is 63.1% (It's 57.37% before dropping from his ratio the 700 boys he was certain would not be in the 1940 census (see page 18 and page 23)).**\n",
    "\n",
    "Ben:\n",
    "(Going to click on links)\n",
    "90% accurate (why not 99%, lot more false than true)"
   ]
  },
  {
   "cell_type": "code",
   "execution_count": null,
   "metadata": {
    "collapsed": true
   },
   "outputs": [],
   "source": []
  }
 ],
 "metadata": {
  "kernelspec": {
   "display_name": "Python 3",
   "language": "python",
   "name": "python3"
  },
  "language_info": {
   "codemirror_mode": {
    "name": "ipython",
    "version": 3
   },
   "file_extension": ".py",
   "mimetype": "text/x-python",
   "name": "python",
   "nbconvert_exporter": "python",
   "pygments_lexer": "ipython3",
   "version": "3.6.1"
  }
 },
 "nbformat": 4,
 "nbformat_minor": 2
}
